{
 "cells": [
  {
   "cell_type": "code",
   "execution_count": 1,
   "id": "a0cd9593",
   "metadata": {},
   "outputs": [],
   "source": [
    "import json"
   ]
  },
  {
   "cell_type": "code",
   "execution_count": 26,
   "id": "b386d1d7",
   "metadata": {},
   "outputs": [],
   "source": [
    "# para crear el fichero único con todos los datos\n",
    "songDictionary = []\n",
    "with open('StreamingHistory1.json') as json_file1:\n",
    "    with open('StreamingHistory2.json') as json_file2:\n",
    "            data = json.load(json_file1)\n",
    "            for song in data:\n",
    "                if (song['endTime'][0:4] == \"2021\"):\n",
    "                    songDictionary.append(song)\n",
    "            data = json.load(json_file2)\n",
    "            for song in data:\n",
    "                if (song['endTime'][0:4] == \"2021\"):\n",
    "                    songDictionary.append(song)\n",
    "with open('StreamingHistory.json', 'w') as outfile:\n",
    "    json.dump(songDictionary, outfile)"
   ]
  },
  {
   "cell_type": "code",
   "execution_count": 3,
   "id": "7df35da2",
   "metadata": {},
   "outputs": [],
   "source": [
    "# para sumar el tiempo\n",
    "time = 0\n",
    "with open('StreamingHistory.json') as json_file:\n",
    "    json_data = json.load(json_file)\n",
    "    for song in json_data:\n",
    "        time += song['msPlayed']"
   ]
  },
  {
   "cell_type": "code",
   "execution_count": 24,
   "id": "a9cc8955",
   "metadata": {},
   "outputs": [],
   "source": [
    "def toNormalTime(millis):\n",
    "    seconds=(millis/1000)%60\n",
    "    seconds = int(seconds)\n",
    "    minutes=(millis/(1000*60))%60\n",
    "    minutes = int(minutes)\n",
    "    hours=(millis/(1000*60*60))%24\n",
    "    days = (millis/(1000*60*60*24))%30\n",
    "    print (\"%d days %d hours %d minutes %d seconds\" % (days,hours, minutes, seconds))\n",
    "def toMinutes(millis):\n",
    "    minutes=(millis/(1000*60))\n",
    "    minutes = int(minutes)\n",
    "    print (\"%d minutes\" % (minutes))"
   ]
  },
  {
   "cell_type": "code",
   "execution_count": 25,
   "id": "e2156a31",
   "metadata": {},
   "outputs": [
    {
     "name": "stdout",
     "output_type": "stream",
     "text": [
      "15 days 12 hours 44 minutes 40 seconds\n",
      "22364 minutes\n"
     ]
    }
   ],
   "source": [
    "toNormalTime(time)\n",
    "toMinutes(time)"
   ]
  },
  {
   "cell_type": "code",
   "execution_count": null,
   "id": "b59b65ca",
   "metadata": {},
   "outputs": [],
   "source": []
  }
 ],
 "metadata": {
  "kernelspec": {
   "display_name": "Python 3",
   "language": "python",
   "name": "python3"
  },
  "language_info": {
   "codemirror_mode": {
    "name": "ipython",
    "version": 3
   },
   "file_extension": ".py",
   "mimetype": "text/x-python",
   "name": "python",
   "nbconvert_exporter": "python",
   "pygments_lexer": "ipython3",
   "version": "3.9.4"
  }
 },
 "nbformat": 4,
 "nbformat_minor": 5
}
