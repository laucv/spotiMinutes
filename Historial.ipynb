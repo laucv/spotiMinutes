{
 "cells": [
  {
   "cell_type": "code",
   "execution_count": null,
   "id": "a0cd9593",
   "metadata": {},
   "outputs": [],
   "source": [
    "import json\n",
    "# dos funciones para saber el tiempo en días, horas, minutos y segundos y la otra para el tiempo solo en minutos\n",
    "def toNormalTime(millis):\n",
    "    seconds=(millis/1000)%60\n",
    "    seconds = int(seconds)\n",
    "    minutes=(millis/(1000*60))%60\n",
    "    minutes = int(minutes)\n",
    "    hours=(millis/(1000*60*60))%24\n",
    "    days = (millis/(1000*60*60*24))%30\n",
    "    print (\"%d days %d hours %d minutes %d seconds\" % (days,hours, minutes, seconds))\n",
    "def toMinutes(millis):\n",
    "    minutes=(millis/(1000*60))\n",
    "    minutes = int(minutes)\n",
    "    print (\"%d minutes\" % (minutes))"
   ]
  },
  {
   "cell_type": "code",
   "execution_count": null,
   "id": "b386d1d7",
   "metadata": {},
   "outputs": [],
   "source": [
    "# para crear el fichero único con todos los datos. \n",
    "# Este notebook se pone en el mismo sitio que los ficheros que proporciona spotify\n",
    "songDictionary = []\n",
    "year = \"2021\"\n",
    "with open('StreamingHistory0.json', encoding=\"utf8\") as json_file0:\n",
    "    with open('StreamingHistory1.json', encoding=\"utf8\") as json_file1:\n",
    "        with open('StreamingHistory2.json', encoding=\"utf8\") as json_file2:\n",
    "            data = json.load(json_file0)\n",
    "            for song in data:\n",
    "                if (song['endTime'][0:4] == year):\n",
    "                    songDictionary.append(song)\n",
    "            data = json.load(json_file1)\n",
    "            for song in data:\n",
    "                if (song['endTime'][0:4] == year):\n",
    "                    songDictionary.append(song)\n",
    "            data = json.load(json_file2)\n",
    "            for song in data:\n",
    "                if (song['endTime'][0:4] == year):\n",
    "                    songDictionary.append(song)\n",
    "with open('StreamingHistory_' + year + '.json', 'w') as outfile:\n",
    "    json.dump(songDictionary, outfile)\n",
    "\n",
    "# para sumar el tiempo total que se ha escuchado con las canciones\n",
    "time = 0\n",
    "with open('StreamingHistory_' + year + '.json') as json_file:\n",
    "    json_data = json.load(json_file)\n",
    "    for song in json_data:\n",
    "        time += song['msPlayed']"
   ]
  },
  {
   "cell_type": "code",
   "execution_count": null,
   "id": "7df35da2",
   "metadata": {},
   "outputs": [],
   "source": [
    "toNormalTime(time)\n",
    "toMinutes(time)"
   ]
  },
  {
   "cell_type": "code",
   "execution_count": null,
   "id": "63365f55",
   "metadata": {},
   "outputs": [],
   "source": []
  }
 ],
 "metadata": {
  "kernelspec": {
   "display_name": "Python 3",
   "language": "python",
   "name": "python3"
  },
  "language_info": {
   "codemirror_mode": {
    "name": "ipython",
    "version": 3
   },
   "file_extension": ".py",
   "mimetype": "text/x-python",
   "name": "python",
   "nbconvert_exporter": "python",
   "pygments_lexer": "ipython3",
   "version": "3.9.4"
  }
 },
 "nbformat": 4,
 "nbformat_minor": 5
}
