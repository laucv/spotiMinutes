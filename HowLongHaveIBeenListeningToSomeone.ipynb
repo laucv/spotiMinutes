{
 "cells": [
  {
   "cell_type": "code",
   "execution_count": null,
   "id": "26d3a426",
   "metadata": {},
   "outputs": [],
   "source": [
    "import json\n",
    "\n",
    "def toNormalTime(millis):\n",
    "    seconds=(millis/1000)%60\n",
    "    seconds = int(seconds)\n",
    "    minutes=(millis/(1000*60))%60\n",
    "    minutes = int(minutes)\n",
    "    hours=(millis/(1000*60*60))%24\n",
    "    days = (millis/(1000*60*60*24))%30\n",
    "    print (\"%d days %d hours %d minutes %d seconds\" % (days,hours, minutes, seconds))\n",
    "    \n",
    "def toMinutes(millis):\n",
    "    minutes=(millis/(1000*60))\n",
    "    minutes = int(minutes)\n",
    "    print (\"%d minutes\" % (minutes))"
   ]
  },
  {
   "cell_type": "code",
   "execution_count": null,
   "id": "98e2334c",
   "metadata": {},
   "outputs": [],
   "source": [
    "year = \"2020\"\n",
    "with open('StreamingHistory_' + year + '.json') as json_file:\n",
    "    json_data = json.load(json_file)"
   ]
  },
  {
   "cell_type": "code",
   "execution_count": null,
   "id": "62575435",
   "metadata": {},
   "outputs": [],
   "source": [
    "time = 0\n",
    "artist = \"The Neighbourhood\"\n",
    "\n",
    "for song in json_data:\n",
    "    if(artist in song['artistName']):\n",
    "        time += song['msPlayed']\n",
    "\n",
    "toNormalTime(time)\n",
    "toMinutes(time)"
   ]
  },
  {
   "cell_type": "code",
   "execution_count": null,
   "id": "82662809",
   "metadata": {},
   "outputs": [],
   "source": []
  }
 ],
 "metadata": {
  "kernelspec": {
   "display_name": "Python 3",
   "language": "python",
   "name": "python3"
  },
  "language_info": {
   "codemirror_mode": {
    "name": "ipython",
    "version": 3
   },
   "file_extension": ".py",
   "mimetype": "text/x-python",
   "name": "python",
   "nbconvert_exporter": "python",
   "pygments_lexer": "ipython3",
   "version": "3.9.4"
  }
 },
 "nbformat": 4,
 "nbformat_minor": 5
}
