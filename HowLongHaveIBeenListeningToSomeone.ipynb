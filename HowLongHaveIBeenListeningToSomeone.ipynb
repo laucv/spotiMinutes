{
 "cells": [
  {
   "cell_type": "code",
   "execution_count": 6,
   "id": "cdb741bf",
   "metadata": {},
   "outputs": [],
   "source": [
    "import json\n",
    "\n",
    "def toNormalTime(millis):\n",
    "    seconds=(millis/1000)%60\n",
    "    seconds = int(seconds)\n",
    "    minutes=(millis/(1000*60))%60\n",
    "    minutes = int(minutes)\n",
    "    hours=(millis/(1000*60*60))%24\n",
    "    days = (millis/(1000*60*60*24))%30\n",
    "    print (\"%d days %d hours %d minutes %d seconds\" % (days,hours, minutes, seconds))\n",
    "    \n",
    "def toMinutes(millis):\n",
    "    minutes=(millis/(1000*60))\n",
    "    minutes = int(minutes)\n",
    "    print (\"%d minutes\" % (minutes))\n",
    "    \n",
    "with open('StreamingHistory.json') as json_file:\n",
    "    json_data = json.load(json_file)\n"
   ]
  },
  {
   "cell_type": "code",
   "execution_count": 10,
   "id": "a50745b6",
   "metadata": {},
   "outputs": [
    {
     "name": "stdout",
     "output_type": "stream",
     "text": [
      "0 days 6 hours 0 minutes 13 seconds\n",
      "360 minutes\n"
     ]
    }
   ],
   "source": [
    "time = 0\n",
    "artist = \"Dua Lipa\"\n",
    "\n",
    "for song in json_data:\n",
    "    if(artist in song['artistName']):\n",
    "        time += song['msPlayed']\n",
    "\n",
    "toNormalTime(time)\n",
    "toMinutes(time)"
   ]
  },
  {
   "cell_type": "code",
   "execution_count": null,
   "id": "048e588e",
   "metadata": {},
   "outputs": [],
   "source": []
  }
 ],
 "metadata": {
  "kernelspec": {
   "display_name": "Python 3",
   "language": "python",
   "name": "python3"
  },
  "language_info": {
   "codemirror_mode": {
    "name": "ipython",
    "version": 3
   },
   "file_extension": ".py",
   "mimetype": "text/x-python",
   "name": "python",
   "nbconvert_exporter": "python",
   "pygments_lexer": "ipython3",
   "version": "3.9.4"
  }
 },
 "nbformat": 4,
 "nbformat_minor": 5
}
